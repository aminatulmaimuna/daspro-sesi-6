{
 "cells": [
  {
   "cell_type": "markdown",
   "id": "4f2a2a13-b0c0-48f3-8ebc-12b8eace3b8b",
   "metadata": {},
   "source": [
    "<h1>Penerimaan Calon Programmer</h1>"
   ]
  },
  {
   "cell_type": "code",
   "execution_count": 2,
   "id": "1b214f0e-a8c7-48b4-b7d7-53d55530a8d4",
   "metadata": {},
   "outputs": [
    {
     "name": "stdin",
     "output_type": "stream",
     "text": [
      "Insert Nilai :  100\n"
     ]
    },
    {
     "name": "stdout",
     "output_type": "stream",
     "text": [
      "100 = A\n",
      "LOLOS \n",
      "Selamat Kamu Berhasil Menjadi Calon Programmer!\n"
     ]
    }
   ],
   "source": [
    "nilai = int(input(\"Insert Nilai : \"))\n",
    "\n",
    "grade =''\n",
    "\n",
    "if nilai >= 80 and nilai <=100:\n",
    "    if nilai ==80:\n",
    "        print(f\"{nilai} = A\")\n",
    "    if nilai <= 100:\n",
    "        print(f\"{nilai} = A\")\n",
    "        grade = 'LOLOS'\n",
    "elif nilai >= 60 and nilai <=80:\n",
    "    if nilai ==60:\n",
    "        print(f\"{nilai} = B\")\n",
    "    if nilai <= 80:\n",
    "        print(f\"{nilai} = B\")\n",
    "        grade ='DIPERTIMBANGKAN'\n",
    "elif nilai < 60:\n",
    "    print(f\"{nilai} = GAGAL\")\n",
    "\n",
    "if grade !='':\n",
    "    print(f\"{grade} \\nSelamat Kamu Berhasil Menjadi Calon Programmer!\")\n",
    "else:\n",
    "    print(f\"{grade} \\nMaaf Kamu Belum Berhasil Menjadi Calon Programmer\")"
   ]
  },
  {
   "cell_type": "markdown",
   "id": "d47f8f47-e34a-4527-9aa5-43650cc2b158",
   "metadata": {},
   "source": [
    "<h1>Persegi FC</h1>"
   ]
  },
  {
   "cell_type": "code",
   "execution_count": 3,
   "id": "22f9e4b9-cf6b-483b-9c60-fb93c8db452a",
   "metadata": {},
   "outputs": [
    {
     "name": "stdin",
     "output_type": "stream",
     "text": [
      "Masukkan nomor punggung :  9\n"
     ]
    },
    {
     "name": "stdout",
     "output_type": "stream",
     "text": [
      "9 Defender\n"
     ]
    }
   ],
   "source": [
    "nomor = int(input(\"Masukkan nomor punggung : \"))\n",
    "\n",
    "if nomor % 2 == 0:\n",
    "    print(f\"{nomor} Target Attacker\")\n",
    "else:\n",
    "    print(f\"{nomor} Defender\")"
   ]
  },
  {
   "cell_type": "code",
   "execution_count": 4,
   "id": "c568239d-0d65-4d74-ae85-37a87d0fcdf0",
   "metadata": {},
   "outputs": [
    {
     "name": "stdin",
     "output_type": "stream",
     "text": [
      "Masukkan nomor punggung:  65\n"
     ]
    },
    {
     "name": "stdout",
     "output_type": "stream",
     "text": [
      "Nomor punggung 65 dapat berfungsi sebagai posisi:\n",
      "- Defender\n"
     ]
    }
   ],
   "source": [
    "nomor_punggung = int(input(\"Masukkan nomor punggung: \"))\n",
    "\n",
    "posisi = []\n",
    "\n",
    "# Cek nomor punggung genap\n",
    "if nomor_punggung % 2 == 0:\n",
    "    posisi.append(\"Target Attacker\")\n",
    "\n",
    "# Cek nomor punggung genap antara 50-100\n",
    "if nomor_punggung % 2 == 0 and 50 <= nomor_punggung <= 100:\n",
    "    posisi.append(\"Capten Team\")\n",
    "\n",
    "# Cek nomor punggung ganjil\n",
    "if nomor_punggung % 2 != 0:\n",
    "    posisi.append(\"Defender\")\n",
    "\n",
    "# Cek nomor punggung ganjil lebih dari 90\n",
    "if nomor_punggung % 2 != 0 and nomor_punggung > 90:\n",
    "    posisi.append(\"Playmaker\")\n",
    "\n",
    "# Cek nomor punggung ganjil kelipatan dari 3 dan 5\n",
    "if nomor_punggung % 2 != 0 and nomor_punggung % 3 == 0 and nomor_punggung % 5 == 0:\n",
    "    posisi.append(\"Keeper\")\n",
    "\n",
    "# Tampilkan hasil\n",
    "if len(posisi) == 0:\n",
    "    print(\"Nomor punggung tidak memenuhi syarat posisi apa pun.\")\n",
    "else:\n",
    "    print(f\"Nomor punggung {nomor_punggung} dapat berfungsi sebagai posisi:\")\n",
    "    for p in posisi:\n",
    "        print(\"-\", p)"
   ]
  },
  {
   "cell_type": "code",
   "execution_count": null,
   "id": "834c6cf4-7589-4f94-9f7c-214701aca098",
   "metadata": {},
   "outputs": [],
   "source": []
  }
 ],
 "metadata": {
  "kernelspec": {
   "display_name": "Python 3 (ipykernel)",
   "language": "python",
   "name": "python3"
  },
  "language_info": {
   "codemirror_mode": {
    "name": "ipython",
    "version": 3
   },
   "file_extension": ".py",
   "mimetype": "text/x-python",
   "name": "python",
   "nbconvert_exporter": "python",
   "pygments_lexer": "ipython3",
   "version": "3.11.7"
  }
 },
 "nbformat": 4,
 "nbformat_minor": 5
}
